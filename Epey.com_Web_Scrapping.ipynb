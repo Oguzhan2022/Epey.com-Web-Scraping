{
 "cells": [
  {
   "cell_type": "markdown",
   "metadata": {},
   "source": [
    "# Epey.com Web Scraping Project For Scrape Smartphone Data"
   ]
  },
  {
   "cell_type": "markdown",
   "metadata": {},
   "source": [
    "This project uses Selenium to fetch HTML codes via the Microsoft Edge browser, BeautifulSoup to extract data from the HTML codes, pandas to store the extracted data in a DataFrame, and convert it into an Excel file.\n",
    "\n",
    "If you do not have these packages installed, you should install these packages first.\n",
    "\n",
    "pip install selenium\n",
    "\n",
    "pip install beautifulsoup4\n",
    "\n",
    "pip install pd\n"
   ]
  },
  {
   "cell_type": "markdown",
   "metadata": {},
   "source": [
    "We imported the necessary packages"
   ]
  },
  {
   "cell_type": "code",
   "execution_count": 5,
   "metadata": {},
   "outputs": [],
   "source": [
    "from selenium import webdriver\n",
    "from selenium.webdriver.edge.service import Service as EdgeService\n",
    "from selenium.webdriver.edge.options import Options as EdgeOptions\n",
    "from webdriver_manager.microsoft import EdgeChromiumDriverManager\n",
    "from bs4 import BeautifulSoup\n",
    "import pandas as pd"
   ]
  },
  {
   "cell_type": "markdown",
   "metadata": {},
   "source": [
    "We enter how many pages we want to scrape into the page variable."
   ]
  },
  {
   "cell_type": "code",
   "execution_count": 6,
   "metadata": {},
   "outputs": [],
   "source": [
    "page = 70\n",
    "\n",
    "url = []\n",
    "for i in range(1, page+1):\n",
    "    url.append(\"https://www.epey.com/akilli-telefonlar/\"+str(i)+\"/\")"
   ]
  },
  {
   "cell_type": "markdown",
   "metadata": {},
   "source": [
    "Our function to make the price value float"
   ]
  },
  {
   "cell_type": "code",
   "execution_count": 7,
   "metadata": {},
   "outputs": [],
   "source": [
    "def fix_price(price):\n",
    "    price_fixed = price.split(' ')[0]\n",
    "    price_fixed = price_fixed.replace('.', '').replace(',', '.')\n",
    "    return float(price_fixed)"
   ]
  },
  {
   "cell_type": "markdown",
   "metadata": {},
   "source": [
    "We are now ready for the scrape process"
   ]
  },
  {
   "cell_type": "code",
   "execution_count": 8,
   "metadata": {},
   "outputs": [],
   "source": [
    "options = EdgeOptions()\n",
    "options.use_chromium = True\n",
    "options.headless = True\n",
    "\n",
    "driver = webdriver.Edge(service=EdgeService(EdgeChromiumDriverManager().install()), options=options)\n",
    "\n",
    "driver.get(url[0])\n",
    "\n",
    "driver.implicitly_wait(10)\n",
    "\n",
    "html = driver.page_source\n",
    "\n",
    "soup = BeautifulSoup(html, \"html.parser\")\n",
    "\n",
    "driver.quit()\n",
    "\n",
    "table = soup.find(\"div\", class_=\"listele table\")\n",
    "table_header = table.find(\"ul\", class_=\"baslik row\")\n",
    "columns = table_header.find_all(\"li\")\n",
    "table_columns = [col.text for col in columns]\n",
    "\n",
    "Tablo = pd.DataFrame(columns=table_columns)\n",
    "\n",
    "row = 1\n",
    "\n",
    "for i in range(1, page+1):\n",
    "\n",
    "    for phone in table.find_all(\"ul\", class_=\"metin row\")[1:]:\n",
    "        Row = []\n",
    "\n",
    "        Row.append(phone.find(\"a\", class_=\"urunadi\").text)\n",
    "\n",
    "        try:\n",
    "            fiyat = phone.find(\"li\", class_=\"fiyat cell\").find(\"a\").text\n",
    "            Row.append(fix_price(fiyat))\n",
    "        except:\n",
    "            Row.append(0)\n",
    "\n",
    "        Row.append(phone.find(\"li\", class_=\"ozellik ozellik1 cell\").text)\n",
    "        Row.append(phone.find(\"li\", class_=\"ozellik ozellik21 cell\").text)\n",
    "        Row.append(phone.find(\"li\", class_=\"ozellik ozellik14 cell\").text)\n",
    "        Row.append(phone.find(\"li\", class_=\"ozellik ozellik7 cell\").text)\n",
    "        try:\n",
    "            Row.append(int(phone.find(\"li\", class_=\"puan cell\").find(\"div\", class_=\"circliful\").get(\"data-percent\")))\n",
    "        except:\n",
    "            Row.append(0)\n",
    "        Tablo.loc[row - 1] = Row\n",
    "        row = row + 1\n",
    "    if i == page:\n",
    "        break\n",
    "    options = EdgeOptions()\n",
    "    options.use_chromium = True\n",
    "    options.headless = True\n",
    "\n",
    "    driver = webdriver.Edge(service=EdgeService(EdgeChromiumDriverManager().install()), options=options)\n",
    "\n",
    "    driver.get(url[i])\n",
    "\n",
    "    driver.implicitly_wait(10)\n",
    "\n",
    "    html = driver.page_source\n",
    "\n",
    "    soup = BeautifulSoup(html, \"html.parser\")\n",
    "\n",
    "    driver.quit()\n",
    "\n",
    "    table = soup.find(\"div\", class_=\"listele table\")\n",
    "\n",
    "Tablo.to_excel(\"epey.xlsx\", index=False)\n"
   ]
  }
 ],
 "metadata": {
  "kernelspec": {
   "display_name": "Python 3",
   "language": "python",
   "name": "python3"
  },
  "language_info": {
   "codemirror_mode": {
    "name": "ipython",
    "version": 3
   },
   "file_extension": ".py",
   "mimetype": "text/x-python",
   "name": "python",
   "nbconvert_exporter": "python",
   "pygments_lexer": "ipython3",
   "version": "3.11.4"
  }
 },
 "nbformat": 4,
 "nbformat_minor": 2
}
